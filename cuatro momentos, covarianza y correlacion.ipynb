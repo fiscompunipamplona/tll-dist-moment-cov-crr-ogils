{
 "cells": [
  {
   "cell_type": "markdown",
   "metadata": {},
   "source": [
    "# Edades, cuatro momentos. "
   ]
  },
  {
   "cell_type": "code",
   "execution_count": 1,
   "metadata": {},
   "outputs": [],
   "source": [
    "from taller import mdistribucion"
   ]
  },
  {
   "cell_type": "code",
   "execution_count": 6,
   "metadata": {},
   "outputs": [
    {
     "name": "stdout",
     "output_type": "stream",
     "text": [
      "[19.  18.7 19.3 19.2 18.9 19.  20.2 19.9 18.6 19.4 19.3 18.8 19.3 18.8\n",
      " 19.3 19.2 18.7 18.5 18.6 19.7 19.9 20.  19.5 19.4 19.6 20.  18.9]\n",
      "\n",
      "\n",
      "media...: 19.25 \n",
      "varianza..: 0.23 \n",
      "desviacion estandar..: 0.48 \n",
      "skw..: 0.27\n"
     ]
    }
   ],
   "source": [
    "from numpy import*\n",
    "edades=loadtxt(\"edades.dat\")\n",
    "y=mdistribucion(edades)\n",
    "\n",
    "print(edades)\n",
    "print(\"\\n\")\n",
    "print(\"media...:\",format(y.medial(),'.2f'),\"\\nvarianza..:\",format( y.varianz(),'.2f'), \"\\ndesviacion estandar..:\",format(y.destandar(),'.2f'), \"\\nskw..:\",format(y.skev(),'.2f'))"
   ]
  },
  {
   "cell_type": "markdown",
   "metadata": {},
   "source": [
    "# Media, covarianza y correlación."
   ]
  },
  {
   "cell_type": "code",
   "execution_count": 3,
   "metadata": {},
   "outputs": [],
   "source": [
    "from taller2 import mdistribucion"
   ]
  },
  {
   "cell_type": "code",
   "execution_count": 5,
   "metadata": {},
   "outputs": [
    {
     "name": "stdout",
     "output_type": "stream",
     "text": [
      "media datos clasicos..: 37.5\n",
      "media datos cuanticos..: 55.25\n",
      "covarianza..: 207.46\n",
      "correlacion..: 0.52\n"
     ]
    }
   ],
   "source": [
    "from numpy import*\n",
    "datos=loadtxt(\"dataClassQuan.dat\")\n",
    "l=mdistribucion(datos[:,0])\n",
    "r=mdistribucion(datos[:,1])\n",
    "p=mdistribucion(datos)\n",
    "print(\"media datos clasicos..:\",l.medial())\n",
    "print(\"media datos cuanticos..:\",r.medial())\n",
    "print(\"covarianza..:\",format(p.cova(),'.2f'))\n",
    "print(\"correlacion..:\",format(p.cor(),'.2f'))"
   ]
  },
  {
   "cell_type": "markdown",
   "metadata": {},
   "source": [
    "la media de los datos clasicos es menor comparada con los datos cuanticos esto es debido a que los datos cuantios se acercan mas al valor central(media),existe una diferencia minima entre los datos cuanticos en comparacion con los clasicos.\n",
    "existe una correlecion entre 0 y 1 por lo que se dice que la correlacion es positiva, existe una relación lineal entre las dos variables debido a que la covarianza es positiva, se puede decir que los valores altos y bajos de las dos variables suelen corresponderse."
   ]
  },
  {
   "cell_type": "code",
   "execution_count": null,
   "metadata": {},
   "outputs": [],
   "source": []
  }
 ],
 "metadata": {
  "kernelspec": {
   "display_name": "Python 3",
   "language": "python",
   "name": "python3"
  },
  "language_info": {
   "codemirror_mode": {
    "name": "ipython",
    "version": 3
   },
   "file_extension": ".py",
   "mimetype": "text/x-python",
   "name": "python",
   "nbconvert_exporter": "python",
   "pygments_lexer": "ipython3",
   "version": "3.5.2"
  }
 },
 "nbformat": 4,
 "nbformat_minor": 2
}
